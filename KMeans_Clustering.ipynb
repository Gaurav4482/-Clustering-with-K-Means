{
 "cells": [
  {
   "cell_type": "markdown",
   "id": "1a8a8aaa",
   "metadata": {},
   "source": [
    "# Task 8: K-Means Clustering\n",
    "Objective: Perform unsupervised learning with K-Means clustering on the Mall Customers dataset."
   ]
  },
  {
   "cell_type": "code",
   "execution_count": null,
   "id": "4a332385",
   "metadata": {},
   "outputs": [],
   "source": [
    "import pandas as pd\n",
    "\n",
    "# Load dataset\n",
    "df = pd.read_csv('Mall_Customers.csv')\n",
    "df.head()"
   ]
  },
  {
   "cell_type": "markdown",
   "id": "57a09748",
   "metadata": {},
   "source": [
    "## Selecting Features for Clustering"
   ]
  },
  {
   "cell_type": "code",
   "execution_count": null,
   "id": "c55211d0",
   "metadata": {},
   "outputs": [],
   "source": [
    "import matplotlib.pyplot as plt\n",
    "from sklearn.cluster import KMeans\n",
    "from sklearn.metrics import silhouette_score\n",
    "\n",
    "# Selecting features\n",
    "X = df[['Annual Income (k$)', 'Spending Score (1-100)']]\n",
    "X.head()"
   ]
  },
  {
   "cell_type": "markdown",
   "id": "ddc638de",
   "metadata": {},
   "source": [
    "## Elbow Method to Determine Optimal K"
   ]
  },
  {
   "cell_type": "code",
   "execution_count": null,
   "id": "43ae3956",
   "metadata": {},
   "outputs": [],
   "source": [
    "wcss = []\n",
    "K_range = range(1, 11)\n",
    "for k in K_range:\n",
    "    kmeans = KMeans(n_clusters=k, init='k-means++', random_state=42)\n",
    "    kmeans.fit(X)\n",
    "    wcss.append(kmeans.inertia_)\n",
    "\n",
    "plt.figure(figsize=(6,4))\n",
    "plt.plot(K_range, wcss, marker='o')\n",
    "plt.title('Elbow Method')\n",
    "plt.xlabel('Number of clusters (K)')\n",
    "plt.ylabel('WCSS')\n",
    "plt.grid(True)\n",
    "plt.show()"
   ]
  },
  {
   "cell_type": "markdown",
   "id": "690b1872",
   "metadata": {},
   "source": [
    "## Fit K-Means with Optimal K and Visualize Clusters"
   ]
  },
  {
   "cell_type": "code",
   "execution_count": null,
   "id": "cb5b8d83",
   "metadata": {},
   "outputs": [],
   "source": [
    "# Optimal K chosen as 5\n",
    "k_optimal = 5\n",
    "kmeans = KMeans(n_clusters=k_optimal, init='k-means++', random_state=42)\n",
    "labels = kmeans.fit_predict(X)\n",
    "\n",
    "# Add labels to DataFrame\n",
    "df['Cluster'] = labels\n",
    "\n",
    "# Silhouette Score\n",
    "sil_score = silhouette_score(X, labels)\n",
    "print(f\"Silhouette Score: {sil_score:.4f}\")\n",
    "\n",
    "# Plot Clusters\n",
    "plt.figure(figsize=(6,4))\n",
    "for cluster in range(k_optimal):\n",
    "    cluster_points = X[df['Cluster'] == cluster]\n",
    "    plt.scatter(cluster_points.iloc[:,0], cluster_points.iloc[:,1], label=f'Cluster {cluster}')\n",
    "\n",
    "plt.scatter(kmeans.cluster_centers_[:,0], kmeans.cluster_centers_[:,1], \n",
    "            s=200, c='black', marker='X', label='Centroids')\n",
    "plt.title(f'K-Means Clustering (K={k_optimal})')\n",
    "plt.xlabel('Annual Income (k$)')\n",
    "plt.ylabel('Spending Score (1-100)')\n",
    "plt.legend()\n",
    "plt.grid(True)\n",
    "plt.show()"
   ]
  },
  {
   "cell_type": "markdown",
   "id": "8d39238d",
   "metadata": {},
   "source": [
    "## Save the Results"
   ]
  },
  {
   "cell_type": "code",
   "execution_count": null,
   "id": "066ccdcc",
   "metadata": {},
   "outputs": [],
   "source": [
    "df.to_csv('mall_customers_clusters.csv', index=False)\n",
    "print(\"Clustered dataset saved as mall_customers_clusters.csv\")"
   ]
  }
 ],
 "metadata": {},
 "nbformat": 4,
 "nbformat_minor": 5
}
